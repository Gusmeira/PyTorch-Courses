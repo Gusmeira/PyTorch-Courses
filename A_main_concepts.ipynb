{
 "cells": [
  {
   "cell_type": "markdown",
   "id": "a7d0c37a",
   "metadata": {},
   "source": [
    "# Mathematics"
   ]
  },
  {
   "cell_type": "code",
   "execution_count": null,
   "id": "37b79045",
   "metadata": {},
   "outputs": [],
   "source": [
    "import torch\n",
    "import numpy as np\n",
    "import scipy.stats as stats\n",
    "\n",
    "import sympy as sym\n",
    "\n",
    "import plotly.graph_objects as go\n",
    "from plotly.io import renderers\n",
    "renderers.default = 'png'\n",
    "from plotly.subplots import make_subplots\n",
    "\n",
    "from pprint import pprint\n",
    "from utils.design import plotly_main_layout, plotly_main_subplot_layout"
   ]
  },
  {
   "cell_type": "markdown",
   "id": "0967f00d",
   "metadata": {},
   "source": [
    "___\n",
    "### Transposition\n",
    "\n",
    "- $A^\\text{T}_{(m,n)} = A_{(n,m)}$\n",
    "    - $A$: matrix"
   ]
  },
  {
   "cell_type": "code",
   "execution_count": 2,
   "id": "f4b3def0",
   "metadata": {},
   "outputs": [
    {
     "data": {
      "text/plain": [
       "tensor([[1, 5, 4],\n",
       "        [2, 6, 3],\n",
       "        [3, 7, 2],\n",
       "        [4, 8, 1]])"
      ]
     },
     "execution_count": 2,
     "metadata": {},
     "output_type": "execute_result"
    }
   ],
   "source": [
    "tv = torch.tensor([\n",
    "    [1,2,3,4],\n",
    "    [5,6,7,8],\n",
    "    [4,3,2,1],\n",
    "])\n",
    "\n",
    "tv.T"
   ]
  },
  {
   "cell_type": "markdown",
   "id": "c6850b01",
   "metadata": {},
   "source": [
    "___\n",
    "### Products\n",
    "\n",
    "- Dot: $a \\cdot b=\\left<a,b\\right> = a^\\text{T} b = \\sum_{i=1}^{n}a_i b_i$\n",
    "- Matrix: $A_{(m,k)} \\times B_{(k,n)} = C_{(m,n)}$\n",
    "    - $A$: matrix\n",
    "    - $B$: matrix"
   ]
  },
  {
   "cell_type": "code",
   "execution_count": 3,
   "id": "8c0dce79",
   "metadata": {},
   "outputs": [
    {
     "name": "stdout",
     "output_type": "stream",
     "text": [
      "Dot:\n",
      "tensor(1.2497)\n",
      "\n",
      "Matrix:\n",
      "tensor([[ 0.4603,  1.2497,  6.9297,  4.0594,  4.4670],\n",
      "        [ 1.0745, -3.2758,  2.4205,  1.3952, -1.8767],\n",
      "        [ 0.5144,  1.5488,  1.1351, -1.1788,  1.6082],\n",
      "        [-0.7651,  5.1185, -0.0949, -2.1309,  0.2688],\n",
      "        [-0.8354,  2.3495,  2.7479,  2.7481,  2.7040]])\n"
     ]
    }
   ],
   "source": [
    "tv1 = torch.randn(5,4)\n",
    "tv2 = torch.randn(4,5)\n",
    "\n",
    "dot_product = torch.dot(tv1[0], tv2.T[1])\n",
    "print('Dot:')\n",
    "pprint(dot_product)\n",
    "\n",
    "matrix_product = torch.mm(tv1, tv2)\n",
    "print('\\nMatrix:')\n",
    "pprint(matrix_product)"
   ]
  },
  {
   "cell_type": "markdown",
   "id": "efd49373",
   "metadata": {},
   "source": [
    "___\n",
    "### Softmax\n",
    "\n",
    "- $\\sigma_i=\\dfrac{e^{z_i}}{\\sum e^z}$\n",
    "    - $z$: categories"
   ]
  },
  {
   "cell_type": "code",
   "execution_count": 4,
   "id": "718e9db1",
   "metadata": {},
   "outputs": [
    {
     "name": "stdout",
     "output_type": "stream",
     "text": [
      "z = [1, 2, 3]\n",
      "sigma = [0.09, 0.245, 0.665]\n"
     ]
    }
   ],
   "source": [
    "def softmax(z):\n",
    "    e_z = [np.exp(x) for x in z]\n",
    "    sum_e_z = sum(e_z)\n",
    "    sigma = [round(float(x/sum_e_z),3) for x in e_z]\n",
    "    return sigma\n",
    "\n",
    "z = [1,2,3]\n",
    "print('z =', z)\n",
    "print('sigma =', softmax(z))"
   ]
  },
  {
   "cell_type": "code",
   "execution_count": 5,
   "id": "4c483c70",
   "metadata": {},
   "outputs": [
    {
     "name": "stdout",
     "output_type": "stream",
     "text": [
      "z = tensor([1., 2., 3.])\n",
      "sigma = tensor([0.0900, 0.2447, 0.6652])\n"
     ]
    }
   ],
   "source": [
    "softfun = torch.nn.Softmax(dim=0)\n",
    "z = torch.Tensor(z)\n",
    "\n",
    "print('z =', z)\n",
    "print('sigma =', softfun(z))"
   ]
  },
  {
   "cell_type": "code",
   "execution_count": 6,
   "id": "764c10e3",
   "metadata": {},
   "outputs": [
    {
     "data": {
      "image/png": "[encoded data removed]"
     },
     "metadata": {},
     "output_type": "display_data"
    }
   ],
   "source": [
    "fig = make_subplots(\n",
    "    rows=1, cols=2,\n",
    "    subplot_titles=['Softmax (n=5)', 'Softmax (n=20)'],\n",
    ")\n",
    "\n",
    "z_1 = np.linspace(0, 5, 5)\n",
    "fig.add_trace(go.Scatter(\n",
    "    x=z_1, y=softmax(z_1), showlegend=False,\n",
    "    mode='markers', marker=dict(size=10, color='black'),\n",
    "), row=1, col=1)\n",
    "\n",
    "z_1 = np.linspace(0, 5, 20)\n",
    "fig.add_trace(go.Scatter(\n",
    "    x=z_1, y=softmax(z_1), showlegend=False,\n",
    "    mode='markers', marker=dict(size=10, color='black'),\n",
    "), row=1, col=2)\n",
    "\n",
    "plotly_main_subplot_layout(fig, title='Softmax', y='softmax', x='z', width=1000, height=400)\n",
    "fig.show()"
   ]
  },
  {
   "cell_type": "markdown",
   "id": "6fc58155",
   "metadata": {},
   "source": [
    "___\n",
    "### Entropy and Cross-Entropy\n",
    "\n",
    "- $H=-\\sum_{i=1}^{n} p(x_i) \\log_2(p(x_i))$\n",
    "    - $x$: data values\n",
    "    - $p$: probability\n",
    "    - Unit: bits\n",
    "    - **High Entropy** indicates that the dataset has a lot variability, while \n",
    "    - **Low Entropy** assumes most of the values repeat and, therefore, are redundant\n",
    "    \n",
    "- $H(p,q)=-\\sum p \\log(q)$\n",
    "    - **Cross-Entropy** describes the relationship between two probability distributions"
   ]
  },
  {
   "cell_type": "code",
   "execution_count": 7,
   "id": "9609de3a",
   "metadata": {},
   "outputs": [
    {
     "name": "stdout",
     "output_type": "stream",
     "text": [
      "Entropy = 0.562\n"
     ]
    }
   ],
   "source": [
    "p = 0.25\n",
    "q = 1-p\n",
    "\n",
    "H = 0\n",
    "for x in [p, q]:\n",
    "    H -= x*np.log(x)\n",
    "\n",
    "print(f'Entropy = {H:.3}')"
   ]
  },
  {
   "cell_type": "code",
   "execution_count": 8,
   "id": "86ea23ea",
   "metadata": {},
   "outputs": [
    {
     "name": "stdout",
     "output_type": "stream",
     "text": [
      "Cross-Entropy = 1.39\n"
     ]
    }
   ],
   "source": [
    "p = [1, 0]\n",
    "q = [0.25, 0.75]\n",
    "\n",
    "H = 0\n",
    "for i in range(len(p)):\n",
    "    H -= p[i]*np.log(q[i])\n",
    "\n",
    "print(f'Cross-Entropy = {H:.3}')"
   ]
  },
  {
   "cell_type": "code",
   "execution_count": 9,
   "id": "d5e6cec1",
   "metadata": {},
   "outputs": [
    {
     "name": "stdout",
     "output_type": "stream",
     "text": [
      "Cross-Entropy = tensor(1.3863)\n"
     ]
    }
   ],
   "source": [
    "q = torch.Tensor(q)\n",
    "p = torch.Tensor(p)\n",
    "\n",
    "# The order matters. P needs to be the labels and Q the probabilities\n",
    "cross_entropy = torch.nn.functional.binary_cross_entropy(q,p)\n",
    "\n",
    "print(f'Cross-Entropy =', cross_entropy)"
   ]
  },
  {
   "cell_type": "markdown",
   "id": "54841e0b",
   "metadata": {},
   "source": [
    "___\n",
    "### Min, Max and Args\n",
    "\n",
    "- $z = \\underset{x}{\\arg\\max} \\, f(x)$"
   ]
  },
  {
   "cell_type": "code",
   "execution_count": 10,
   "id": "0a2eae53",
   "metadata": {},
   "outputs": [
    {
     "name": "stdout",
     "output_type": "stream",
     "text": [
      "t[1] | min = -1.0\n",
      "t[4] | max = 4.0\n"
     ]
    }
   ],
   "source": [
    "t = torch.Tensor([1, -1, 3, 0 , 4, 3])\n",
    "\n",
    "print(f't[{torch.argmin(t)}] | min = {torch.min(t)}')\n",
    "print(f't[{torch.argmax(t)}] | max = {torch.max(t)}')"
   ]
  },
  {
   "cell_type": "code",
   "execution_count": 11,
   "id": "67e4cc25",
   "metadata": {},
   "outputs": [
    {
     "name": "stdout",
     "output_type": "stream",
     "text": [
      "rows arg min:\n",
      "torch.return_types.min(\n",
      "values=tensor([0., 1., 5.]),\n",
      "indices=tensor([0, 0, 1]))\n"
     ]
    }
   ],
   "source": [
    "t = torch.Tensor([\n",
    "    [0, 1, 10],\n",
    "    [20, 8, 5]\n",
    "])\n",
    "\n",
    "print('rows arg min:')\n",
    "print(torch.min(t, axis=0))"
   ]
  },
  {
   "cell_type": "markdown",
   "id": "268bfc90",
   "metadata": {},
   "source": [
    "___\n",
    "### T-Test\n",
    "\n",
    "- $\\dfrac{\\bar{x} - \\bar{y}}{s \\, \\sqrt{n}}$\n",
    "    - $\\bar{x}$: mean model 1\n",
    "    - $\\bar{y}$: mean model 2\n",
    "    - $s$: standard deviation\n",
    "    - $n$: number of samples"
   ]
  },
  {
   "cell_type": "code",
   "execution_count": 12,
   "id": "ed50fb81",
   "metadata": {},
   "outputs": [
    {
     "data": {
      "image/png": "[encoded data removed]"
     },
     "metadata": {},
     "output_type": "display_data"
    }
   ],
   "source": [
    "n1 = 30\n",
    "n2 = 40\n",
    "mu1 = 1\n",
    "mu2 = 2\n",
    "\n",
    "data1 = mu1 + np.random.randn(n1)\n",
    "data2 = mu2 + np.random.randn(n2)\n",
    "\n",
    "fig = go.Figure()\n",
    "\n",
    "fig.add_trace(go.Scatter(\n",
    "    x = np.zeros(n1), y=data1, showlegend=False,\n",
    "    mode='markers', marker=dict(color='#2db9b2', size=10)\n",
    "))\n",
    "\n",
    "fig.add_trace(go.Scatter(\n",
    "    x = np.ones(n2), y=data2, showlegend=False,\n",
    "    mode='markers', marker=dict(color='#9a3c89', size=10)\n",
    "))\n",
    "\n",
    "plotly_main_layout(fig, title='Samples', x='groups', x_range=[-1,2], width=600, height=500)"
   ]
  },
  {
   "cell_type": "code",
   "execution_count": 13,
   "id": "a4a6888c",
   "metadata": {},
   "outputs": [
    {
     "name": "stdout",
     "output_type": "stream",
     "text": [
      "t = -4.7206\n",
      "p = 1.2166e-05\n"
     ]
    }
   ],
   "source": [
    "t, p = stats.ttest_ind(data1, data2)\n",
    "print(f't = {t:.5}')\n",
    "print(f'p = {p:.5}')"
   ]
  },
  {
   "cell_type": "markdown",
   "id": "7a4eadc0",
   "metadata": {},
   "source": [
    "___\n",
    "### Derivatives\n",
    "\n",
    "- $f(x)' = \\dfrac{\\text{d}y}{\\text{d}x}$"
   ]
  },
  {
   "cell_type": "code",
   "execution_count": 16,
   "id": "4a1284a3",
   "metadata": {},
   "outputs": [
    {
     "name": "stdout",
     "output_type": "stream",
     "text": [
      "f(x) = 2*x**2\n",
      "f(x) = 4*x\n"
     ]
    }
   ],
   "source": [
    "x = sym.symbols('x')\n",
    "fx = 2*(x**2)\n",
    "\n",
    "df = sym.diff(fx,x)\n",
    "\n",
    "print(f'f(x) = {fx}')\n",
    "print(f'f(x) = {df}')"
   ]
  }
 ],
 "metadata": {
  "kernelspec": {
   "display_name": "env",
   "language": "python",
   "name": "python3"
  },
  "language_info": {
   "codemirror_mode": {
    "name": "ipython",
    "version": 3
   },
   "file_extension": ".py",
   "mimetype": "text/x-python",
   "name": "python",
   "nbconvert_exporter": "python",
   "pygments_lexer": "ipython3",
   "version": "3.12.6"
  }
 },
 "nbformat": 4,
 "nbformat_minor": 5
}
