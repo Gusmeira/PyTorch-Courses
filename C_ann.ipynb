{
 "cells": [
  {
   "cell_type": "markdown",
   "id": "d6d554e7",
   "metadata": {},
   "source": [
    "# Mathematics"
   ]
  },
  {
   "cell_type": "code",
   "execution_count": null,
   "id": "c6215e50",
   "metadata": {},
   "outputs": [],
   "source": [
    "import torch\n",
    "import numpy as np\n",
    "import scipy.stats as stats\n",
    "\n",
    "import sympy as sym\n",
    "\n",
    "import plotly.graph_objects as go\n",
    "from plotly.io import renderers\n",
    "renderers.default = 'png'\n",
    "from plotly.subplots import make_subplots\n",
    "\n",
    "from pprint import pprint\n",
    "from utils.design import plotly_main_layout, plotly_main_subplot_layout"
   ]
  },
  {
   "cell_type": "markdown",
   "id": "23b2befa",
   "metadata": {},
   "source": [
    "___\n",
    "### Artificial Neural Network\n",
    "\n",
    "> #### ANNs\n",
    "> - $\\hat{y}=\\sigma(x_0 w_0 + \\sum_{i=1}^m x_iw_i)$\n",
    "> - $\\hat{y}=\\sigma(\\textbf{x}^\\text{T}\\textbf{w}+w_0)$\n",
    "> - $\\hat{y}=\\sigma(\\textbf{x}^\\text{T}\\textbf{w})$\n",
    ">   - $\\sigma$: activation function\n",
    ">   - $\\textbf{x}$: input vector\n",
    ">   - $\\textbf{w}$: weights\n",
    ">   - $w$: bias (intercept)\n",
    "\n",
    "> #### Loss Function\n",
    "> - $\\mathcal{L}_\\text{MSE}= \\dfrac{1}{2}(\\hat{y}-y)^2$\n",
    "> - $\\mathcal{L}_\\text{Cross-Entropy}= -(y\\log (\\hat{y}) + (1-y)\\log (1-\\hat{y}))$\n",
    "\n",
    "> #### Cost Function\n",
    "> - $\\mathcal{J} = \\dfrac{1}{n}\\sum_{i=1}^n \\mathcal{L}(\\hat{y}_i , y_i)$"
   ]
  },
  {
   "cell_type": "markdown",
   "id": "8f13e091",
   "metadata": {},
   "source": [
    "___\n",
    "### X"
   ]
  },
  {
   "cell_type": "markdown",
   "id": "ec1fd191",
   "metadata": {},
   "source": [
    "___\n",
    "### X"
   ]
  },
  {
   "cell_type": "markdown",
   "id": "7048da61",
   "metadata": {},
   "source": [
    "___\n",
    "### X"
   ]
  },
  {
   "cell_type": "markdown",
   "id": "30c78cce",
   "metadata": {},
   "source": [
    "___\n",
    "### X"
   ]
  },
  {
   "cell_type": "markdown",
   "id": "f8ce0e57",
   "metadata": {},
   "source": [
    "___\n",
    "### X"
   ]
  },
  {
   "cell_type": "markdown",
   "id": "eee593b9",
   "metadata": {},
   "source": [
    "___\n",
    "### X"
   ]
  },
  {
   "cell_type": "markdown",
   "id": "c1f3dd43",
   "metadata": {},
   "source": [
    "___\n",
    "### X"
   ]
  }
 ],
 "metadata": {
  "language_info": {
   "name": "python"
  }
 },
 "nbformat": 4,
 "nbformat_minor": 5
}
